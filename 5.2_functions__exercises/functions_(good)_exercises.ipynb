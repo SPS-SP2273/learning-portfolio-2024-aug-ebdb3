{
 "cells": [
  {
   "attachments": {},
   "cell_type": "markdown",
   "id": "123456",
   "metadata": {},
   "source": [
    "<div style=\"text-align:left;font-size:2em\"><span style=\"font-weight:bolder;font-size:1.25em\">SP2273 | Learning Portfolio</span><br><br><span style=\"font-weight:bold;color:darkred\">Functions (Good) Exercises</span></div>"
   ]
  },
  {
   "cell_type": "markdown",
   "id": "f6962f58-1705-4e8f-b25b-7fbe37287e6c",
   "metadata": {},
   "source": [
    "### Exercise 1"
   ]
  },
  {
   "cell_type": "code",
   "execution_count": 20,
   "id": "0b8c4b37-e4d6-48f1-936a-a1cd6b61b30d",
   "metadata": {},
   "outputs": [
    {
     "name": "stdin",
     "output_type": "stream",
     "text": [
      "What is the temperature in Celsius? 0\n",
      "Fahrenheit or Kelvin? Fahrenheit\n"
     ]
    },
    {
     "name": "stdout",
     "output_type": "stream",
     "text": [
      "0.0 Celsius is 32.0 Fahrenheit\n"
     ]
    }
   ],
   "source": [
    "temperature_celsius = float(input(\"What is the temperature in Celsius?\"))\n",
    "target_scale = input(\"Fahrenheit or Kelvin?\")\n",
    "\n",
    "def convert_celsius(temperature_celsius, target_scale = 'Fahrenheit'):\n",
    "    if target_scale == 'Kelvin':\n",
    "        return (temperature_celsius + 273.15)\n",
    "    else:\n",
    "        return (temperature_celsius * 9/5) + 32\n",
    "\n",
    "print(temperature_celsius, 'Celsius is', convert_celsius(temperature_celsius, target_scale), target_scale) "
   ]
  },
  {
   "cell_type": "markdown",
   "id": "1da54e9f-9697-4b0c-a9e5-6f5dbe293cd2",
   "metadata": {},
   "source": [
    "### Exercise 2"
   ]
  },
  {
   "cell_type": "code",
   "execution_count": 19,
   "id": "457a9208-f924-45ff-9ec8-64b910b0c531",
   "metadata": {},
   "outputs": [
    {
     "name": "stdin",
     "output_type": "stream",
     "text": [
      "What is the temperature in Fahrenheit? 32\n",
      "Celsius or Kelvin? Kelvin\n"
     ]
    },
    {
     "name": "stdout",
     "output_type": "stream",
     "text": [
      "32.0 Fahrenheit is 273.15 Kelvin\n"
     ]
    }
   ],
   "source": [
    "temperature_fahrenheit = float(input(\"What is the temperature in Fahrenheit?\"))\n",
    "target_scale = input(\"Celsius or Kelvin?\")\n",
    "\n",
    "def convert_fahrenheit(temperature_fahrenheit, target_scale = 'Celsius'):\n",
    "    if target_scale == 'Kelvin':\n",
    "        return ((temperature_fahrenheit - 32) * 5/9 + 273.15)\n",
    "    else:\n",
    "        return ((temperature_fahrenheit - 32) * 5/9)\n",
    "\n",
    "print(temperature_fahrenheit, 'Fahrenheit is', convert_fahrenheit(temperature_fahrenheit, target_scale), target_scale) "
   ]
  },
  {
   "cell_type": "markdown",
   "id": "442536c1-c453-4b27-bb03-17c6024fac17",
   "metadata": {},
   "source": [
    "### Exercise 3"
   ]
  },
  {
   "cell_type": "code",
   "execution_count": 35,
   "id": "504090f5-4f13-4358-acd2-8f64e069fec7",
   "metadata": {},
   "outputs": [
    {
     "name": "stdin",
     "output_type": "stream",
     "text": [
      "What is the temperature? 100\n",
      "Is the input temperature in Celsius, Kelvin or Fahrenheit? Kelvin\n",
      "Is the output temperature in Celsius, Kelvin or Fahrenheit? Fahrenheit\n"
     ]
    },
    {
     "name": "stdout",
     "output_type": "stream",
     "text": [
      "100.0 Kelvin is -279.66999999999996 Fahrenheit\n"
     ]
    }
   ],
   "source": [
    "temperature = float(input(\"What is the temperature?\"))\n",
    "source_scale = input(\"Is the input temperature in Celsius, Kelvin or Fahrenheit?\")\n",
    "target_scale = input(\"Is the output temperature in Celsius, Kelvin or Fahrenheit?\")\n",
    "\n",
    "def convert_temperature(temperature, source_scale, target_scale):\n",
    "    if source_scale == target_scale:\n",
    "        return temperature\n",
    "    elif source_scale == 'Celsius':\n",
    "        if target_scale == 'Kelvin':\n",
    "            return (temperature + 273.15)\n",
    "        else:  \n",
    "            # Celsius to Fahrenheit\n",
    "            return (temperature * 9/5) + 32\n",
    "    elif source_scale == 'Fahrenheit':\n",
    "        if target_scale == 'Kelvin':\n",
    "            return ((temperature - 32) * 5/9 + 273.15)\n",
    "        else:  \n",
    "            # Fahrenheit to Celsius\n",
    "            return ((temperature - 32) * 5/9)\n",
    "    else:\n",
    "        # Kelvin conversions\n",
    "        if target_scale == 'Celsius':\n",
    "            return (temperature - 273.15)\n",
    "        else:  \n",
    "            # Kelvin to Fahrenheit\n",
    "            return (temperature - 273.15) * 9/5 + 32\n",
    "\n",
    "print(temperature, source_scale, 'is', convert_temperature(temperature, source_scale, target_scale), target_scale)"
   ]
  },
  {
   "cell_type": "code",
   "execution_count": null,
   "id": "3d5e3161-b2a4-4fb0-9b50-74173e94086e",
   "metadata": {},
   "outputs": [],
   "source": []
  }
 ],
 "metadata": {
  "kernelspec": {
   "display_name": "Python 3 (ipykernel)",
   "language": "python",
   "name": "python3"
  },
  "language_info": {
   "codemirror_mode": {
    "name": "ipython",
    "version": 3
   },
   "file_extension": ".py",
   "mimetype": "text/x-python",
   "name": "python",
   "nbconvert_exporter": "python",
   "pygments_lexer": "ipython3",
   "version": "3.12.3"
  },
  "toc": {
   "base_numbering": 1,
   "nav_menu": {},
   "number_sections": true,
   "sideBar": true,
   "skip_h1_title": false,
   "title_cell": "Table of Contents",
   "title_sidebar": "Contents",
   "toc_cell": false,
   "toc_position": {},
   "toc_section_display": true,
   "toc_window_display": false
  },
  "vscode": {
   "interpreter": {
    "hash": "31f2aee4e71d21fbe5cf8b01ff0e069b9275f58929596ceb00d14d90e3e16cd6"
   }
  }
 },
 "nbformat": 4,
 "nbformat_minor": 5
}
