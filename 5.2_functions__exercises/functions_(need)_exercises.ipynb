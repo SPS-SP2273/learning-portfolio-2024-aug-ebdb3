{
 "cells": [
  {
   "attachments": {},
   "cell_type": "markdown",
   "id": "123456",
   "metadata": {},
   "source": [
    "<div style=\"text-align:left;font-size:2em\"><span style=\"font-weight:bolder;font-size:1.25em\">SP2273 | Learning Portfolio</span><br><br><span style=\"font-weight:bold;color:darkred\">Functions (Need) Exercises</span></div>"
   ]
  },
  {
   "cell_type": "markdown",
   "id": "01a84321-dd9e-40fe-b96e-6702a156cfe3",
   "metadata": {},
   "source": [
    "### Exercise 1"
   ]
  },
  {
   "cell_type": "code",
   "execution_count": 10,
   "id": "60c8a5dc-266a-4be7-95b3-06a0a49b23ed",
   "metadata": {},
   "outputs": [],
   "source": [
    "def greeting(name):\n",
    "    if name == 'Batman':\n",
    "        return 'Hello Batman! So, nice to meet you!'\n",
    "    return f'Hello {name}!'"
   ]
  },
  {
   "cell_type": "markdown",
   "id": "a0647c10-c8eb-4a01-ac67-b947481e33b9",
   "metadata": {},
   "source": [
    "This works because even if the name entered is not Batman, the code goes from the if block to line 4, where it returns 'Hello (name entered)' anyway. If the name entered is Batman, it returns the specified string and ends the function execution, so line 4 is not executed."
   ]
  },
  {
   "cell_type": "markdown",
   "id": "170c9452-d9a1-47fd-9adf-0b48e965b4c1",
   "metadata": {},
   "source": [
    "### Exercise 2"
   ]
  },
  {
   "cell_type": "code",
   "execution_count": 3,
   "id": "eda1f852-9320-43f5-aa25-ee0a9420029b",
   "metadata": {},
   "outputs": [
    {
     "name": "stdin",
     "output_type": "stream",
     "text": [
      "Enter the individual's weight in kg. 80\n",
      "Enter the individual's height in metres. 1.5\n"
     ]
    },
    {
     "name": "stdout",
     "output_type": "stream",
     "text": [
      "BMI: 35.55555555555556\n",
      "Obese (BMI 30 or more)\n"
     ]
    }
   ],
   "source": [
    "input_weight = float(input(\"Enter the individual's weight in kg.\"))\n",
    "input_height = float(input(\"Enter the individual's height in metres.\"))\n",
    "\n",
    "def calculate_BMI(input_weight, input_height):\n",
    "    print('BMI:', float(input_weight / (input_height ** 2)))\n",
    "    BMI = float(input_weight / (input_height ** 2))\n",
    "    if BMI < 18.5:\n",
    "        return ('Underweight (BMI less than 18.5)')\n",
    "    elif 18.5 <= BMI <= 24.9:\n",
    "        return ('Normal weight (BMI between 18.5 and 24.9)')\n",
    "    elif 25 <= BMI <= 29.9:\n",
    "        return ('Overweight (BMI between 25 and 29.9)')\n",
    "    elif 30 <= BMI:\n",
    "        return ('Obese (BMI 30 or more)')\n",
    "\n",
    "print(calculate_BMI(input_weight, input_height))"
   ]
  },
  {
   "cell_type": "markdown",
   "id": "a26b6ed3-56f6-4cc4-a00d-9c7cf1c968e5",
   "metadata": {},
   "source": [
    "### Exercise 3"
   ]
  },
  {
   "cell_type": "code",
   "execution_count": 2,
   "id": "40929e09-ae5b-43c9-8cb9-12f5b72882c2",
   "metadata": {},
   "outputs": [
    {
     "name": "stdin",
     "output_type": "stream",
     "text": [
      "What is integer n? 5\n"
     ]
    },
    {
     "name": "stdout",
     "output_type": "stream",
     "text": [
      "120\n"
     ]
    }
   ],
   "source": [
    "n = int(input('What is integer n?'))\n",
    "\n",
    "def factorial(number):\n",
    "    if number >= 1:\n",
    "        factorial_intermediate = 1\n",
    "        for number in range(1, number+1):\n",
    "            factorial_intermediate = factorial_intermediate * number\n",
    "                # for loop - F_I * 1 * 2 *...*(number)\n",
    "                # range(1, number+1) because range(1-9) gives 1, 2, ...8 values\n",
    "        return factorial_intermediate\n",
    "    elif number == 0:\n",
    "        return 1\n",
    "    elif number < 0:\n",
    "        return \"Integer chosen is negative.\"\n",
    "        \n",
    "print(factorial(n))"
   ]
  },
  {
   "cell_type": "code",
   "execution_count": null,
   "id": "862a5a53-96b2-4050-931c-1ed541d0fa25",
   "metadata": {},
   "outputs": [],
   "source": []
  }
 ],
 "metadata": {
  "kernelspec": {
   "display_name": "Python 3 (ipykernel)",
   "language": "python",
   "name": "python3"
  },
  "language_info": {
   "codemirror_mode": {
    "name": "ipython",
    "version": 3
   },
   "file_extension": ".py",
   "mimetype": "text/x-python",
   "name": "python",
   "nbconvert_exporter": "python",
   "pygments_lexer": "ipython3",
   "version": "3.12.3"
  },
  "toc": {
   "base_numbering": 1,
   "nav_menu": {},
   "number_sections": true,
   "sideBar": true,
   "skip_h1_title": false,
   "title_cell": "Table of Contents",
   "title_sidebar": "Contents",
   "toc_cell": false,
   "toc_position": {},
   "toc_section_display": true,
   "toc_window_display": false
  },
  "vscode": {
   "interpreter": {
    "hash": "31f2aee4e71d21fbe5cf8b01ff0e069b9275f58929596ceb00d14d90e3e16cd6"
   }
  }
 },
 "nbformat": 4,
 "nbformat_minor": 5
}
