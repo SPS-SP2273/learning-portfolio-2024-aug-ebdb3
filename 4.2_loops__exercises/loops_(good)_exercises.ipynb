{
 "cells": [
  {
   "attachments": {},
   "cell_type": "markdown",
   "id": "123456",
   "metadata": {},
   "source": [
    "<div style=\"text-align:left;font-size:2em\"><span style=\"font-weight:bolder;font-size:1.25em\">SP2273 | Learning Portfolio</span><br><br><span style=\"font-weight:bold;color:darkred\">Loops (Good) Exercises</span></div>"
   ]
  },
  {
   "cell_type": "code",
   "execution_count": 2,
   "id": "7d2a67de-2630-4fa6-80a4-6c15de5f72fa",
   "metadata": {},
   "outputs": [],
   "source": [
    "import numpy as np"
   ]
  },
  {
   "cell_type": "markdown",
   "id": "6549dbaf-bdf2-47c9-9c29-470615590aec",
   "metadata": {},
   "source": [
    "### Exercise 1"
   ]
  },
  {
   "cell_type": "code",
   "execution_count": 14,
   "id": "9327e433-ba5a-4544-9459-2bc6bf944036",
   "metadata": {},
   "outputs": [
    {
     "data": {
      "text/plain": [
       "[1, 9, 25, 49, 81]"
      ]
     },
     "execution_count": 14,
     "metadata": {},
     "output_type": "execute_result"
    }
   ],
   "source": [
    "x = []\n",
    "for number in range (10):\n",
    "    if number%2 == 0:\n",
    "        continue\n",
    "    x = x + [number**2]\n",
    "x"
   ]
  },
  {
   "cell_type": "markdown",
   "id": "44a411aa-39dc-4c42-bee3-e54c2dba9a73",
   "metadata": {},
   "source": [
    "### Exercise 2"
   ]
  },
  {
   "cell_type": "code",
   "execution_count": 32,
   "id": "c3f0c3b6-b97c-4d74-9e54-3ae336f11a97",
   "metadata": {},
   "outputs": [
    {
     "data": {
      "text/plain": [
       "[1, 9, 25, 49, 81]"
      ]
     },
     "execution_count": 32,
     "metadata": {},
     "output_type": "execute_result"
    }
   ],
   "source": [
    "[number**2 for number in range(10) if number % 2 == 1]"
   ]
  },
  {
   "cell_type": "markdown",
   "id": "e1e05a4c-c8ab-47cb-8d4e-11500482104f",
   "metadata": {},
   "source": [
    "### Exercise 3"
   ]
  },
  {
   "cell_type": "code",
   "execution_count": 37,
   "id": "c5a46512-b4bd-4304-994b-98d16e8318c5",
   "metadata": {},
   "outputs": [
    {
     "name": "stdout",
     "output_type": "stream",
     "text": [
      "1.31 μs ± 38.8 ns per loop (mean ± std. dev. of 7 runs, 1,000,000 loops each)\n"
     ]
    }
   ],
   "source": [
    "%%timeit\n",
    "for number in range (10):\n",
    "    if number%2 == 0:\n",
    "        continue"
   ]
  },
  {
   "cell_type": "code",
   "execution_count": 39,
   "id": "96ad3e3d-439c-4882-ae54-e308b3470c77",
   "metadata": {},
   "outputs": [
    {
     "name": "stdout",
     "output_type": "stream",
     "text": [
      "1.91 μs ± 83.2 ns per loop (mean ± std. dev. of 7 runs, 1,000,000 loops each)\n"
     ]
    }
   ],
   "source": [
    "%%timeit\n",
    "[number**2 for number in range(10) if number % 2 == 1]"
   ]
  },
  {
   "cell_type": "markdown",
   "id": "1506492d-79eb-420b-8267-8075d42dca96",
   "metadata": {},
   "source": [
    "The first code is faster."
   ]
  },
  {
   "cell_type": "markdown",
   "id": "c85da759-19da-4dd7-aac6-853a70c790ed",
   "metadata": {},
   "source": [
    "### Exercise 4"
   ]
  },
  {
   "cell_type": "code",
   "execution_count": 17,
   "id": "c1ebb86b-557f-45b2-a4b4-5c9ac2940809",
   "metadata": {},
   "outputs": [
    {
     "name": "stdout",
     "output_type": "stream",
     "text": [
      "0 100\n",
      "1 95.0\n",
      "2 90.25\n",
      "3 85.7375\n",
      "4 81.45062499999999\n",
      "5 77.37809374999999\n",
      "6 73.50918906249998\n",
      "7 69.83372960937498\n",
      "8 66.34204312890623\n",
      "9 63.02494097246091\n",
      "10 59.87369392383786\n",
      "11 56.880009227645964\n",
      "12 54.03600876626366\n",
      "13 51.33420832795048\n",
      "14 48.76749791155295\n",
      "\n",
      " 14 years taken\n"
     ]
    }
   ],
   "source": [
    "year = 0\n",
    "quantity = 100\n",
    "\n",
    "while True:\n",
    "    print (year, quantity)\n",
    "    quantity = quantity*0.95\n",
    "    year = year+1\n",
    "    if quantity <= 50: \n",
    "        print (year, quantity)\n",
    "        print(\"\\n\", year, 'years taken')\n",
    "        break"
   ]
  },
  {
   "cell_type": "code",
   "execution_count": 43,
   "id": "3933afd8-d2e5-4d76-a458-8cccf0707416",
   "metadata": {},
   "outputs": [
    {
     "name": "stdout",
     "output_type": "stream",
     "text": [
      "2016 showed a 3.410000000000025 ppm increase in CO2.\n"
     ]
    }
   ],
   "source": [
    "co2_data = [\n",
    "    (2000, 369.55), (2001, 371.14), (2002, 373.28), \n",
    "    (2003, 375.80), (2004, 377.52), (2005, 379.80), \n",
    "    (2006, 381.90), (2007, 383.79), (2008, 385.60), \n",
    "    (2009, 387.43), (2010, 389.90), (2011, 391.65), \n",
    "    (2012, 393.85), (2013, 396.52), (2014, 398.65),\n",
    "    (2015, 400.83), (2016, 404.24), (2017, 406.55), \n",
    "    (2018, 408.52), (2019, 411.44), (2020, 414.24)\n",
    "]\n",
    "np_co2_data = np.array(co2_data)\n",
    "\n",
    "for number in range(1, 21):\n",
    "    if (np_co2_data[number, 1]) > (np_co2_data[number - 1, 1] + 3):\n",
    "        print(int(np_co2_data[number, 0]),'showed a', np_co2_data[number, 1] - np_co2_data[number - 1, 1], 'ppm increase in CO2.')"
   ]
  },
  {
   "cell_type": "code",
   "execution_count": null,
   "id": "6ceaeaf1-b032-49f0-a477-093854097191",
   "metadata": {},
   "outputs": [],
   "source": []
  }
 ],
 "metadata": {
  "kernelspec": {
   "display_name": "Python 3 (ipykernel)",
   "language": "python",
   "name": "python3"
  },
  "language_info": {
   "codemirror_mode": {
    "name": "ipython",
    "version": 3
   },
   "file_extension": ".py",
   "mimetype": "text/x-python",
   "name": "python",
   "nbconvert_exporter": "python",
   "pygments_lexer": "ipython3",
   "version": "3.12.3"
  },
  "toc": {
   "base_numbering": 1,
   "nav_menu": {},
   "number_sections": true,
   "sideBar": true,
   "skip_h1_title": false,
   "title_cell": "Table of Contents",
   "title_sidebar": "Contents",
   "toc_cell": false,
   "toc_position": {},
   "toc_section_display": true,
   "toc_window_display": false
  },
  "vscode": {
   "interpreter": {
    "hash": "31f2aee4e71d21fbe5cf8b01ff0e069b9275f58929596ceb00d14d90e3e16cd6"
   }
  }
 },
 "nbformat": 4,
 "nbformat_minor": 5
}
