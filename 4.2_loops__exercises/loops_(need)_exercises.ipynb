{
 "cells": [
  {
   "attachments": {},
   "cell_type": "markdown",
   "id": "123456",
   "metadata": {},
   "source": [
    "<div style=\"text-align:left;font-size:2em\"><span style=\"font-weight:bolder;font-size:1.25em\">SP2273 | Learning Portfolio</span><br><br><span style=\"font-weight:bold;color:darkred\">Loops (Need) Exercises</span></div>"
   ]
  },
  {
   "cell_type": "code",
   "execution_count": 2,
   "id": "67933593-8e5d-4bd2-8fdf-32a1a53683a7",
   "metadata": {},
   "outputs": [],
   "source": [
    "import numpy as np"
   ]
  },
  {
   "cell_type": "markdown",
   "id": "80328b5d-c4f2-44ec-9c7f-a42ad3b96be9",
   "metadata": {},
   "source": [
    "### Exercise 1"
   ]
  },
  {
   "cell_type": "code",
   "execution_count": 5,
   "id": "8071fa83-61d2-4134-8197-3d5efec2be35",
   "metadata": {},
   "outputs": [
    {
     "name": "stdout",
     "output_type": "stream",
     "text": [
      "[ 0  5 10 15 20 25 30 35 40 45 50]\n"
     ]
    }
   ],
   "source": [
    "temperatures_celsius = [\n",
    "    0, 5, 10, 15, 20, 25,\n",
    "    30, 35, 40, 45, 50\n",
    "]\n",
    "np_temperatures_celsius = np.array(temperatures_celsius)\n",
    "print(np_temperatures_celsius)"
   ]
  },
  {
   "cell_type": "code",
   "execution_count": 8,
   "id": "353efa7b-8b49-444b-ae40-0ebff860c1e4",
   "metadata": {},
   "outputs": [
    {
     "name": "stdout",
     "output_type": "stream",
     "text": [
      "[ 32.  41.  50.  59.  68.  77.  86.  95. 104. 113. 122.]\n"
     ]
    }
   ],
   "source": [
    "np_temperatures_fahrenheit = (np_temperatures_celsius*1.8 + 32)\n",
    "print(np_temperatures_fahrenheit)\n"
   ]
  },
  {
   "cell_type": "code",
   "execution_count": 24,
   "id": "187701e7-11e4-46ae-a047-85151fe80674",
   "metadata": {},
   "outputs": [
    {
     "name": "stdout",
     "output_type": "stream",
     "text": [
      "0C = 32.0F\n",
      "5C = 41.0F\n",
      "10C = 50.0F\n",
      "15C = 59.0F\n",
      "20C = 68.0F\n",
      "25C = 77.0F\n",
      "30C = 86.0F\n",
      "35C = 95.0F\n",
      "40C = 104.0F\n",
      "45C = 113.0F\n",
      "50C = 122.0F\n"
     ]
    }
   ],
   "source": [
    "for count, np_temperatures_celsius2 in enumerate(np_temperatures_celsius):\n",
    "    np_temperatures_fahrenheit2 = np_temperatures_fahrenheit[count]\n",
    "    print(f'{np_temperatures_celsius2}C = {np_temperatures_fahrenheit2}F')"
   ]
  },
  {
   "cell_type": "markdown",
   "id": "a0b57a3f-483c-406d-957c-6597310beba7",
   "metadata": {},
   "source": [
    "### Exercise 2"
   ]
  },
  {
   "cell_type": "code",
   "execution_count": 3,
   "id": "d7ea50f8-a103-4e83-a966-7947b5214540",
   "metadata": {},
   "outputs": [
    {
     "name": "stdout",
     "output_type": "stream",
     "text": [
      "1   : \t1\t2\t3\t4\t5\t\n",
      "\n",
      "2   : \t2\t4\t6\t8\t10\t\n",
      "\n",
      "3   : \t3\t6\t9\t12\t15\t\n",
      "\n",
      "4   : \t4\t8\t12\t16\t20\t\n",
      "\n",
      "5   : \t5\t10\t15\t20\t25\t\n",
      "\n"
     ]
    }
   ],
   "source": [
    "for number_y in [1, 2, 3, 4, 5]:\n",
    "    print(f'{number_y}   : ', end='\\t')\n",
    "    for number_x in [1, 2, 3, 4, 5]:\n",
    "        print(f'{number_x*number_y}', end='\\t')\n",
    "    print('\\n')\n",
    "# can replace line 5 with print() for only one line break instead of two - print() function already ends with line break"
   ]
  },
  {
   "cell_type": "markdown",
   "id": "57ae9f61-b14d-4b35-b8a0-33aa518ba874",
   "metadata": {},
   "source": [
    "### Exercise 3"
   ]
  },
  {
   "cell_type": "code",
   "execution_count": 32,
   "id": "1c52a6d9-3405-4883-bda0-819f34129109",
   "metadata": {},
   "outputs": [
    {
     "data": {
      "text/plain": [
       "np.int64(6)"
      ]
     },
     "execution_count": 32,
     "metadata": {},
     "output_type": "execute_result"
    }
   ],
   "source": [
    "sum(np.random.rand(10) > 0.5)"
   ]
  },
  {
   "cell_type": "code",
   "execution_count": 3,
   "id": "4e4f5e86-0d1f-4af3-a21d-e118b5d7a414",
   "metadata": {},
   "outputs": [
    {
     "name": "stdout",
     "output_type": "stream",
     "text": [
      "Experiment 1: No. of heads = 4\n",
      "Experiment 2: No. of heads = 5\n",
      "Experiment 3: No. of heads = 4\n",
      "Experiment 4: No. of heads = 4\n",
      "Experiment 5: No. of heads = 7\n",
      "Experiment 6: No. of heads = 4\n",
      "Experiment 7: No. of heads = 7\n",
      "Experiment 8: No. of heads = 3\n",
      "Experiment 9: No. of heads = 4\n",
      "Experiment 10: No. of heads = 7\n"
     ]
    }
   ],
   "source": [
    "for exp_number in range(1, 11):\n",
    "    print(f'Experiment {exp_number}: No. of heads = {sum(np.random.rand(10) > 0.5)}')"
   ]
  },
  {
   "cell_type": "code",
   "execution_count": null,
   "id": "fd99f9bb-dacc-48f2-b1c3-6e5cb9c1002c",
   "metadata": {},
   "outputs": [],
   "source": []
  }
 ],
 "metadata": {
  "kernelspec": {
   "display_name": "Python 3 (ipykernel)",
   "language": "python",
   "name": "python3"
  },
  "language_info": {
   "codemirror_mode": {
    "name": "ipython",
    "version": 3
   },
   "file_extension": ".py",
   "mimetype": "text/x-python",
   "name": "python",
   "nbconvert_exporter": "python",
   "pygments_lexer": "ipython3",
   "version": "3.12.3"
  },
  "toc": {
   "base_numbering": 1,
   "nav_menu": {},
   "number_sections": true,
   "sideBar": true,
   "skip_h1_title": false,
   "title_cell": "Table of Contents",
   "title_sidebar": "Contents",
   "toc_cell": false,
   "toc_position": {},
   "toc_section_display": true,
   "toc_window_display": false
  },
  "vscode": {
   "interpreter": {
    "hash": "31f2aee4e71d21fbe5cf8b01ff0e069b9275f58929596ceb00d14d90e3e16cd6"
   }
  }
 },
 "nbformat": 4,
 "nbformat_minor": 5
}
