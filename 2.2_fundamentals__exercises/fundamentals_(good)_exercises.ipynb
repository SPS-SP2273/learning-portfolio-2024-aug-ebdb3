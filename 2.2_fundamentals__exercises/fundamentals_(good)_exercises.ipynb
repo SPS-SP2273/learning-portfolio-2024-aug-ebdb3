{
 "cells": [
  {
   "attachments": {},
   "cell_type": "markdown",
   "id": "123456",
   "metadata": {},
   "source": [
    "<div style=\"text-align:left;font-size:2em\"><span style=\"font-weight:bolder;font-size:1.25em\">SP2273 | Learning Portfolio</span><br><br><span style=\"font-weight:bold;color:darkred\">Fundamentals (Good) Exercises</span></div>"
   ]
  },
  {
   "cell_type": "code",
   "execution_count": 101,
   "id": "18af6cbd-9b24-4bec-a445-999656138eec",
   "metadata": {},
   "outputs": [
    {
     "name": "stdin",
     "output_type": "stream",
     "text": [
      "What is your name? test\n"
     ]
    },
    {
     "name": "stdout",
     "output_type": "stream",
     "text": [
      "How you doin TEST!\n"
     ]
    }
   ],
   "source": [
    "user_input = input('What is your name?')\n",
    "print(f\"How you doin {user_input.upper()}!\")"
   ]
  },
  {
   "cell_type": "code",
   "execution_count": 100,
   "id": "a6eeb294-81e1-4892-a6f0-74284723f544",
   "metadata": {},
   "outputs": [
    {
     "name": "stdin",
     "output_type": "stream",
     "text": [
      "What is your name? test\n",
      "What is your age? 19\n"
     ]
    },
    {
     "name": "stdout",
     "output_type": "stream",
     "text": [
      "My name is TEST and I am 19 years old.\n"
     ]
    }
   ],
   "source": [
    "user_input_name = input('What is your name?')\n",
    "user_input_age = input('What is your age?')\n",
    "print(f\"My name is {user_input_name.upper()} and I am {user_input_age} years old.\")"
   ]
  },
  {
   "cell_type": "code",
   "execution_count": 13,
   "id": "0a96fff0-1c6a-472f-9eab-7756ffac9779",
   "metadata": {},
   "outputs": [
    {
     "name": "stdout",
     "output_type": "stream",
     "text": [
      "The value of pi to 2 decimal places is: 3.14\n",
      "The value of pi to 3 decimal places is: 3.142\n",
      "The value of pi to 4 decimal places is: 3.1416\n"
     ]
    }
   ],
   "source": [
    "pi = float(3.141592653589793)\n",
    "print(f\"The value of pi to 2 decimal places is: {pi:.2f}\")\n",
    "print(f\"The value of pi to 3 decimal places is: {pi:.3f}\")\n",
    "print(f\"The value of pi to 4 decimal places is: {pi:.4f}\")"
   ]
  },
  {
   "cell_type": "code",
   "execution_count": 20,
   "id": "adb960f4-b729-47fc-bdda-dfe4506c603f",
   "metadata": {},
   "outputs": [
    {
     "name": "stdout",
     "output_type": "stream",
     "text": [
      "Apple      $ 0.99\n",
      "Banana     $ 0.59\n",
      "Orange     $ 1.29\n",
      "\n",
      "********** $*****\n"
     ]
    }
   ],
   "source": [
    "print(\"Apple      $ 0.99\\nBanana     $ 0.59\\nOrange     $ 1.29\\n\\n********** $*****\")"
   ]
  },
  {
   "cell_type": "code",
   "execution_count": 68,
   "id": "cc0403e8-ba5a-4cae-aac9-fb763fde68b9",
   "metadata": {},
   "outputs": [
    {
     "name": "stdin",
     "output_type": "stream",
     "text": [
      "Enter the student's score: 39\n"
     ]
    },
    {
     "name": "stdout",
     "output_type": "stream",
     "text": [
      "The student's letter is: C\n"
     ]
    }
   ],
   "source": [
    "user_input_grade = float(input(\"Enter the student's score:\"))        \n",
    "\n",
    "if (70 <= user_input_grade <= 100):\n",
    "    print(\"The student's letter grade is: A\")\n",
    "elif (50 <= user_input_grade <= 69):\n",
    "    print(\"The student's letter grade is: B\")\n",
    "elif (35 <= user_input_grade <= 49):\n",
    "    print(\"The student's letter is: C\")\n",
    "elif (0 <= user_input_grade <= 34):\n",
    "    print(\"The student's letter grade is: Fail\")\n",
    "else:\n",
    "    print(\"Invalid input\")"
   ]
  },
  {
   "cell_type": "code",
   "execution_count": 102,
   "id": "adebe672-92f4-4ae3-91e5-94df28c2cb3a",
   "metadata": {},
   "outputs": [
    {
     "name": "stdin",
     "output_type": "stream",
     "text": [
      "Your chosen number is: 10\n"
     ]
    },
    {
     "name": "stdout",
     "output_type": "stream",
     "text": [
      "3628800\n"
     ]
    }
   ],
   "source": [
    "n = int(input(\"Your chosen number is:\"))\n",
    "def factorial(n):\n",
    "    if n < 0:\n",
    "        return (\"Invalid input\")\n",
    "    elif n == 0:\n",
    "        return 1\n",
    "    else:\n",
    "        result = 1\n",
    "        for number in range(1, n+1):\n",
    "            result *= number\n",
    "        return result\n",
    "print (factorial(n))"
   ]
  },
  {
   "cell_type": "code",
   "execution_count": null,
   "id": "01266c95-479d-45d8-8b0c-ab175f64551a",
   "metadata": {},
   "outputs": [],
   "source": []
  }
 ],
 "metadata": {
  "kernelspec": {
   "display_name": "Python 3 (ipykernel)",
   "language": "python",
   "name": "python3"
  },
  "language_info": {
   "codemirror_mode": {
    "name": "ipython",
    "version": 3
   },
   "file_extension": ".py",
   "mimetype": "text/x-python",
   "name": "python",
   "nbconvert_exporter": "python",
   "pygments_lexer": "ipython3",
   "version": "3.12.3"
  },
  "toc": {
   "base_numbering": 1,
   "nav_menu": {},
   "number_sections": true,
   "sideBar": true,
   "skip_h1_title": false,
   "title_cell": "Table of Contents",
   "title_sidebar": "Contents",
   "toc_cell": false,
   "toc_position": {},
   "toc_section_display": true,
   "toc_window_display": false
  },
  "vscode": {
   "interpreter": {
    "hash": "31f2aee4e71d21fbe5cf8b01ff0e069b9275f58929596ceb00d14d90e3e16cd6"
   }
  }
 },
 "nbformat": 4,
 "nbformat_minor": 5
}
