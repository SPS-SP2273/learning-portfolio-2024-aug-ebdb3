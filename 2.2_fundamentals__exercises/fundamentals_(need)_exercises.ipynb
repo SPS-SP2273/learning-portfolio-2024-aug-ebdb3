{
 "cells": [
  {
   "attachments": {},
   "cell_type": "markdown",
   "id": "123456",
   "metadata": {},
   "source": [
    "<div style=\"text-align:left;font-size:2em\"><span style=\"font-weight:bolder;font-size:1.25em\">SP2273 | Learning Portfolio</span><br><br><span style=\"font-weight:bold;color:darkred\">Fundamentals (Need) Exercises</span></div>"
   ]
  },
  {
   "cell_type": "markdown",
   "id": "8b79d129-d5d3-4c01-8e28-36367cf64e06",
   "metadata": {},
   "source": [
    "### Exercise 1\n",
    "1. print('text')\n",
    "2. markdown (italics, bold, images, superscript and subscript, links, math equations, headings, code, *tables, lists*)\n",
    "3. variables (age = 20, `print(age)` -> `20`)\n",
    "4. math (`(1+2)*5` -> `15`)\n",
    "5. commands (!cd, %timeit, %%timeit)\n",
    "6. comments (#text)\n",
    "7. if-else statements\n",
    "8. = and ==\n",
    "9. math and numpy\n",
    "10. *kernel*\n",
    "11. *.split()*"
   ]
  },
  {
   "cell_type": "markdown",
   "id": "10897c6d-4ea0-4632-b571-8741930a70ff",
   "metadata": {},
   "source": [
    "### Exercise 2"
   ]
  },
  {
   "cell_type": "code",
   "execution_count": 6,
   "id": "f2442d37-5dfb-4c7a-b102-b572e1d52f1e",
   "metadata": {},
   "outputs": [],
   "source": [
    "import numpy as np"
   ]
  },
  {
   "cell_type": "code",
   "execution_count": 7,
   "id": "93228b73-8e9d-4409-9b5e-ab386e6fff98",
   "metadata": {},
   "outputs": [
    {
     "data": {
      "text/plain": [
       "np.float64(5.0)"
      ]
     },
     "execution_count": 7,
     "metadata": {},
     "output_type": "execute_result"
    }
   ],
   "source": [
    "np.sqrt(x**2 + y**2)"
   ]
  },
  {
   "cell_type": "code",
   "execution_count": 8,
   "id": "d706def0-b594-4f66-80a3-ee6c1d497e79",
   "metadata": {},
   "outputs": [],
   "source": [
    "import math"
   ]
  },
  {
   "cell_type": "code",
   "execution_count": 16,
   "id": "a5274c1d-ea12-45d9-b917-33f2e74afb8b",
   "metadata": {},
   "outputs": [
    {
     "name": "stdout",
     "output_type": "stream",
     "text": [
      "3 4 5.0\n"
     ]
    }
   ],
   "source": [
    "x, y = 3, 4 \n",
    "z =  math.sqrt(x**2 + y**2)\n",
    "print(x, y, z)"
   ]
  },
  {
   "cell_type": "markdown",
   "id": "7ba56939-aad0-4cd3-8e2c-ab20cf8195ca",
   "metadata": {},
   "source": [
    "### Exercise 3"
   ]
  },
  {
   "cell_type": "markdown",
   "id": "9bee6c02-09e1-464a-8ff3-c0ea4d416f67",
   "metadata": {},
   "source": [
    "|  # | Term         | Description                                                          |\r\n",
    "|:--:|--------------|----------------------------------------------------------------------|\r\n",
    "|  1 | Function     | a command to Python that does a specific thing                       |\r\n",
    "|  2 | Arguments    | lines that are accepted by functions in order to perform a task      |\r\n",
    "|  3 | Comments     | notes that help you identify what you wrote certain bits of code for |\r\n",
    "|  4 | Indentations | used to separate certain blocks to make code clearer                 |\r\n",
    "|  5 | Packages     | adds more functions to python when imported                          |\r\n",
    "|  6 | .            | indicates ownership (math.sqrt(x) vs np.sqrt(x) + other uses         |\r\n",
    "|  7 | :            | designates a line of code                                            |\r\n",
    "|  8 | []           | used for data lists (and images/links in markdown)                   |\r\n",
    "|  9 | [[],[]]      | used for 2d lists                                                    |\r\n",
    "| 10 | {}           | stores data in a dictionary (uses keys to indicate values)           |          |"
   ]
  },
  {
   "cell_type": "markdown",
   "id": "b5e5519b-3a4c-4d05-a382-40c3d5918c25",
   "metadata": {},
   "source": [
    "### Exercise 4"
   ]
  },
  {
   "cell_type": "code",
   "execution_count": 23,
   "id": "21b9d639-cb3c-41d9-8a15-c8cdcb808977",
   "metadata": {},
   "outputs": [
    {
     "data": {
      "text/plain": [
       "2.5"
      ]
     },
     "execution_count": 23,
     "metadata": {},
     "output_type": "execute_result"
    }
   ],
   "source": [
    "5/2\n",
    "#a/b divides a by b"
   ]
  },
  {
   "cell_type": "code",
   "execution_count": 18,
   "id": "7e94614a-60a3-4f82-8513-8c4ff8141e05",
   "metadata": {},
   "outputs": [
    {
     "data": {
      "text/plain": [
       "2"
      ]
     },
     "execution_count": 18,
     "metadata": {},
     "output_type": "execute_result"
    }
   ],
   "source": [
    "5//2"
   ]
  },
  {
   "cell_type": "code",
   "execution_count": 19,
   "id": "a3feb4b2-0653-4fb8-afae-dacfd76f3f99",
   "metadata": {},
   "outputs": [
    {
     "data": {
      "text/plain": [
       "3"
      ]
     },
     "execution_count": 19,
     "metadata": {},
     "output_type": "execute_result"
    }
   ],
   "source": [
    "6//2"
   ]
  },
  {
   "cell_type": "code",
   "execution_count": 20,
   "id": "c33c8627-e0a6-468f-9163-c7b4c3603271",
   "metadata": {},
   "outputs": [
    {
     "data": {
      "text/plain": [
       "1"
      ]
     },
     "execution_count": 20,
     "metadata": {},
     "output_type": "execute_result"
    }
   ],
   "source": [
    "7//5"
   ]
  },
  {
   "cell_type": "code",
   "execution_count": 22,
   "id": "66463614-1a82-433c-82b2-75b5437de651",
   "metadata": {},
   "outputs": [
    {
     "data": {
      "text/plain": [
       "3"
      ]
     },
     "execution_count": 22,
     "metadata": {},
     "output_type": "execute_result"
    }
   ],
   "source": [
    "20//6\n",
    "#a//b divides a by b and rounds the result down to the smallest whole number"
   ]
  },
  {
   "cell_type": "code",
   "execution_count": 24,
   "id": "9398a89b-f191-4bbd-b079-f5f52b0d1754",
   "metadata": {},
   "outputs": [
    {
     "data": {
      "text/plain": [
       "1"
      ]
     },
     "execution_count": 24,
     "metadata": {},
     "output_type": "execute_result"
    }
   ],
   "source": [
    "5%2"
   ]
  },
  {
   "cell_type": "code",
   "execution_count": 30,
   "id": "9bf1621b-45be-40b1-94df-3684db79045b",
   "metadata": {},
   "outputs": [
    {
     "data": {
      "text/plain": [
       "2"
      ]
     },
     "execution_count": 30,
     "metadata": {},
     "output_type": "execute_result"
    }
   ],
   "source": [
    "20%6"
   ]
  },
  {
   "cell_type": "code",
   "execution_count": 33,
   "id": "242e12c1-9dec-4371-9396-9358f3a38d07",
   "metadata": {},
   "outputs": [
    {
     "data": {
      "text/plain": [
       "0"
      ]
     },
     "execution_count": 33,
     "metadata": {},
     "output_type": "execute_result"
    }
   ],
   "source": [
    "30%5\n",
    "#a%b divides a by b and takes the remainder."
   ]
  },
  {
   "cell_type": "code",
   "execution_count": null,
   "id": "15735f90-d368-4c87-9029-c8d081307764",
   "metadata": {},
   "outputs": [],
   "source": []
  }
 ],
 "metadata": {
  "kernelspec": {
   "display_name": "Python 3 (ipykernel)",
   "language": "python",
   "name": "python3"
  },
  "language_info": {
   "codemirror_mode": {
    "name": "ipython",
    "version": 3
   },
   "file_extension": ".py",
   "mimetype": "text/x-python",
   "name": "python",
   "nbconvert_exporter": "python",
   "pygments_lexer": "ipython3",
   "version": "3.12.3"
  },
  "toc": {
   "base_numbering": 1,
   "nav_menu": {},
   "number_sections": true,
   "sideBar": true,
   "skip_h1_title": false,
   "title_cell": "Table of Contents",
   "title_sidebar": "Contents",
   "toc_cell": false,
   "toc_position": {},
   "toc_section_display": true,
   "toc_window_display": false
  },
  "vscode": {
   "interpreter": {
    "hash": "31f2aee4e71d21fbe5cf8b01ff0e069b9275f58929596ceb00d14d90e3e16cd6"
   }
  }
 },
 "nbformat": 4,
 "nbformat_minor": 5
}
