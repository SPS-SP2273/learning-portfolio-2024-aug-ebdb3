{
 "cells": [
  {
   "attachments": {},
   "cell_type": "markdown",
   "id": "123456",
   "metadata": {},
   "source": [
    "<div style=\"text-align:left;font-size:2em\"><span style=\"font-weight:bolder;font-size:1.25em\">SP2273 | Learning Portfolio</span><br><br><span style=\"font-weight:bold;color:darkred\">Storing Data (Good) Exercises</span></div>"
   ]
  },
  {
   "cell_type": "code",
   "execution_count": 3,
   "id": "80d6df4f-8597-4ec2-92a3-e805e1dce474",
   "metadata": {},
   "outputs": [],
   "source": [
    "import numpy as np"
   ]
  },
  {
   "cell_type": "markdown",
   "id": "1fec5a9a-aef9-480e-8924-7c99937948b6",
   "metadata": {},
   "source": [
    "### Exercise 1"
   ]
  },
  {
   "cell_type": "markdown",
   "id": "16287082-e337-4f4b-b44b-922eeb6b3d81",
   "metadata": {},
   "source": [
    "| Term       | Brief description                                               |\n",
    "|------------|-----------------------------------------------------------------|\n",
    "| Subsetting | selecting certain element/s from a list                         |\n",
    "| Indexing   | selecting only one element from a list                          |\n",
    "| Slicing    | selecting a range of elements from a list                       |\n",
    "| Masking    | showing only certain elements in a list that fulfill a criteria |"
   ]
  },
  {
   "cell_type": "markdown",
   "id": "356a4ba4-6725-4a3d-8e38-b2b5e0c035cd",
   "metadata": {},
   "source": [
    "### Exercise 2"
   ]
  },
  {
   "cell_type": "code",
   "execution_count": 4,
   "id": "f1b8478b-eab0-45df-bc8f-b04a41425140",
   "metadata": {},
   "outputs": [
    {
     "name": "stdout",
     "output_type": "stream",
     "text": [
      "['1' '3' '2' '4' '5' '7' '6' '8' '10' '9']\n"
     ]
    }
   ],
   "source": [
    "np_array_2d = np.array([[1, \"A\"], [3, \"C\"], [2, \"B\"], [4, \"D\"],\n",
    "                        [5, \"E\"], [7, \"G\"], [6, \"F\"], [8, \"H\"],\n",
    "                        [10, \"J\"], [9, \"I\"]])\n",
    "\n",
    "mask = np_array_2d[:, 0] \n",
    "    # ':' -> include all sets within array\n",
    "    # '0' -> the first (index 0) item of each set within the 2d array\n",
    "print(mask)"
   ]
  },
  {
   "cell_type": "code",
   "execution_count": 5,
   "id": "2c297da4-c611-4e7f-9365-6f6ac51b0dc4",
   "metadata": {},
   "outputs": [
    {
     "name": "stdout",
     "output_type": "stream",
     "text": [
      "[ True  True False False  True  True False False False  True]\n"
     ]
    }
   ],
   "source": [
    "mask = np_array_2d[:, 0].astype(int)%2 == 1 \n",
    "    # x%2 -> remainder of x when divided by 2. dividing all values by 2 to find numbers with remainder 1, aka. odd numbers.\n",
    "print(mask)"
   ]
  },
  {
   "cell_type": "code",
   "execution_count": 7,
   "id": "18118335-d17d-4934-a57f-cd0f145de5c9",
   "metadata": {},
   "outputs": [
    {
     "data": {
      "text/plain": [
       "array(['A', 'C', 'E', 'G', 'I'], dtype='<U21')"
      ]
     },
     "execution_count": 7,
     "metadata": {},
     "output_type": "execute_result"
    }
   ],
   "source": [
    "np_array_2d[mask][:,1]"
   ]
  },
  {
   "cell_type": "code",
   "execution_count": 9,
   "id": "564fdff1-3c4a-4bde-b9d8-f035fc1e766c",
   "metadata": {},
   "outputs": [
    {
     "data": {
      "text/plain": [
       "array(['A', 'C', 'E', 'G', 'I'], dtype='<U21')"
      ]
     },
     "execution_count": 9,
     "metadata": {},
     "output_type": "execute_result"
    }
   ],
   "source": [
    "# all in one:\n",
    "np_array_2d = np.array([[1, \"A\"], [3, \"C\"], [2, \"B\"], [4, \"D\"],\n",
    "                        [5, \"E\"], [7, \"G\"], [6, \"F\"], [8, \"H\"],\n",
    "                        [10, \"J\"], [9, \"I\"]])\n",
    "\n",
    "mask = np_array_2d[:, 0].astype(int)%2 == 1\n",
    "np_array_2d[mask][:,1]"
   ]
  },
  {
   "cell_type": "markdown",
   "id": "e533ff4b-d062-45fa-ab9d-d76816ad8383",
   "metadata": {},
   "source": [
    "### Exercise 3"
   ]
  },
  {
   "cell_type": "code",
   "execution_count": 10,
   "id": "ea414536-3239-4454-833c-2ee91ba09318",
   "metadata": {},
   "outputs": [],
   "source": [
    "numbers = np.array([[66, 50, 57, -1, -1],\n",
    " [92, -1, 88, -1, -1],\n",
    " [75, -1, -1, 76, -1],\n",
    " [-1, 51, 87, -1, -1],\n",
    " [71, -1, 67, -1, 69]])\n",
    "mask_above50 = numbers > 50\n",
    "mask_equals50 = numbers == 50\n",
    "mask_below50 = numbers < 50\n",
    "\n",
    "numbers[mask_above50] = 1\n",
    "numbers[mask_equals50] = 0"
   ]
  },
  {
   "cell_type": "code",
   "execution_count": null,
   "id": "586c5493-427e-4f8f-9ed5-4b8d06428ebc",
   "metadata": {},
   "outputs": [],
   "source": []
  }
 ],
 "metadata": {
  "kernelspec": {
   "display_name": "Python 3 (ipykernel)",
   "language": "python",
   "name": "python3"
  },
  "language_info": {
   "codemirror_mode": {
    "name": "ipython",
    "version": 3
   },
   "file_extension": ".py",
   "mimetype": "text/x-python",
   "name": "python",
   "nbconvert_exporter": "python",
   "pygments_lexer": "ipython3",
   "version": "3.12.3"
  },
  "toc": {
   "base_numbering": 1,
   "nav_menu": {},
   "number_sections": true,
   "sideBar": true,
   "skip_h1_title": false,
   "title_cell": "Table of Contents",
   "title_sidebar": "Contents",
   "toc_cell": false,
   "toc_position": {},
   "toc_section_display": true,
   "toc_window_display": false
  },
  "vscode": {
   "interpreter": {
    "hash": "31f2aee4e71d21fbe5cf8b01ff0e069b9275f58929596ceb00d14d90e3e16cd6"
   }
  }
 },
 "nbformat": 4,
 "nbformat_minor": 5
}
