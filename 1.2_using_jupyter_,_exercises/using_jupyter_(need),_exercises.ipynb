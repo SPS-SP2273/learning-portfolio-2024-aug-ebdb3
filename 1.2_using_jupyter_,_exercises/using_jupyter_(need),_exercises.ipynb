{
 "cells": [
  {
   "attachments": {},
   "cell_type": "markdown",
   "id": "123456",
   "metadata": {},
   "source": [
    "<div style=\"text-align:left;font-size:2em\"><span style=\"font-weight:bolder;font-size:1.25em\">SP2273 | Learning Portfolio</span><br><br><span style=\"font-weight:bold;color:darkred\">Using Jupyter (Need), Exercises</span></div>"
   ]
  },
  {
   "cell_type": "markdown",
   "id": "4a7dfb34-afa4-40ef-8d79-50c822189b9c",
   "metadata": {},
   "source": [
    "# Exercise 1"
   ]
  },
  {
   "attachments": {},
   "cell_type": "markdown",
   "id": "ee370fb3",
   "metadata": {},
   "source": [
    "## 1 Quadratic Equations"
   ]
  },
  {
   "attachments": {},
   "cell_type": "markdown",
   "id": "6843634c",
   "metadata": {},
   "source": [
    "### Introduction"
   ]
  },
  {
   "cell_type": "markdown",
   "id": "5f9ca36d-829d-4ac8-85bb-67524f57c39b",
   "metadata": {},
   "source": [
    "![](https://upload.wikimedia.org/wikipedia/commons/thumb/f/f8/Polynomialdeg2.svg/800px-Polynomialdeg2.svg.png)\n",
    "\n",
    "(*Image from the [Wikipedia page on Quadratic Equations](https://en.wikipedia.org/wiki/Quadratic_equation))*\n",
    "\n",
    "The general form of a quadratic equation is:\n",
    "$$\n",
    "ax^2 + bx + c = 0\n",
    "$$\n"
   ]
  },
  {
   "attachments": {},
   "cell_type": "markdown",
   "id": "15ee1e66",
   "metadata": {},
   "source": [
    "### Solutions"
   ]
  },
  {
   "cell_type": "markdown",
   "id": "52b11b49-1c1c-445c-8006-fd585464e7a1",
   "metadata": {},
   "source": [
    "Provided $a \\ne 0$, we can use an elementary algebraic equation called [completing the square](https://en.wikipedia.org/wiki/Completing_the_square) to show that a quadratic equation has the following solution:\n",
    "$$\n",
    "x = \\dfrac{-b \\pm \\sqrt{b^2 - 4ac}}{2a}\n",
    "$$"
   ]
  },
  {
   "attachments": {},
   "cell_type": "markdown",
   "id": "1fdd409f",
   "metadata": {},
   "source": [
    "### Discriminant"
   ]
  },
  {
   "cell_type": "markdown",
   "id": "cf78de7b-674e-4ebb-8021-137784445e12",
   "metadata": {},
   "source": [
    "The quantity $\\Delta = b^2 - 4ac$ is called the **discriminant** of the equation and decides the nature of its solutions. The table below shows the various possiblities.\n",
    "\n",
    "|Discriminant|Roots|\n",
    "|:---|---:|\n",
    "|$\\Delta = b^2 - 4ac = 0$|A single solution of $-b/(2a)$|\n",
    "|$\\Delta = b^2 - 4ac > 0$|Two distinct solutions|\n",
    "|$\\Delta = b^2 - 4ac < 0$|No real solutions, both are complex.|"
   ]
  },
  {
   "cell_type": "markdown",
   "id": "f2e6738b-8488-4ffd-82f6-d212885d40ac",
   "metadata": {},
   "source": [
    "# Exercise 2"
   ]
  },
  {
   "cell_type": "markdown",
   "id": "cd364d21-42c7-43bd-9484-8a59fdfa6c3d",
   "metadata": {},
   "source": [
    "1. A git repository contains all of a project's files and changes.\n",
    "2. Git keeps tracks of changes in the files in our repository.\n",
    "3. A commit is a save state for the files in a repository.\n",
    "4. A push is uploading the latest commit of a repository from Github Desktop to github.com.\n",
    "5. A pull is updating the repository on Github Desktop with the latest changes to that repository on github.com.\n",
    "6. Github is on the internet while Github Desktop is local."
   ]
  },
  {
   "cell_type": "markdown",
   "id": "c71cf3af-b866-43b9-b4c2-8b8c9eaafc68",
   "metadata": {},
   "source": [
    "# Exercise 3"
   ]
  },
  {
   "cell_type": "markdown",
   "id": "d0afa684-4d1f-4db2-92bc-76339ff60850",
   "metadata": {},
   "source": [
    "$$\n",
    "\\mu = \\dfrac{1}{n} \\sum_{i=1}^{n}x_{i}\n",
    "$$\n",
    "\n",
    "$$\n",
    "\\sigma = \\sqrt{\\dfrac{1}{n}\\sum_{i=1}^{n}(x_{i}-\\mu)^2}\n",
    "$$\n",
    "\n",
    "$$\n",
    "r=\\dfrac{\\sum_{i=1}^{n}(x_{i}-\\mu_{X})(y_{i}-\\mu_{Y})}{\\sqrt{\\sum_{i-1}^{n}(x_{i}-\\mu_{X})^2\\sum_{i=1}^{n}(y_{i}-\\mu_{Y})^2}}\n",
    "$$"
   ]
  },
  {
   "cell_type": "code",
   "execution_count": null,
   "id": "eb0b8249-73b5-4fcf-bd5d-ecf9e4751abb",
   "metadata": {},
   "outputs": [],
   "source": []
  }
 ],
 "metadata": {
  "kernelspec": {
   "display_name": "Python 3 (ipykernel)",
   "language": "python",
   "name": "python3"
  },
  "language_info": {
   "codemirror_mode": {
    "name": "ipython",
    "version": 3
   },
   "file_extension": ".py",
   "mimetype": "text/x-python",
   "name": "python",
   "nbconvert_exporter": "python",
   "pygments_lexer": "ipython3",
   "version": "3.12.3"
  },
  "toc": {
   "base_numbering": 1,
   "nav_menu": {},
   "number_sections": true,
   "sideBar": true,
   "skip_h1_title": false,
   "title_cell": "Table of Contents",
   "title_sidebar": "Contents",
   "toc_cell": false,
   "toc_position": {},
   "toc_section_display": true,
   "toc_window_display": false
  },
  "vscode": {
   "interpreter": {
    "hash": "31f2aee4e71d21fbe5cf8b01ff0e069b9275f58929596ceb00d14d90e3e16cd6"
   }
  }
 },
 "nbformat": 4,
 "nbformat_minor": 5
}
